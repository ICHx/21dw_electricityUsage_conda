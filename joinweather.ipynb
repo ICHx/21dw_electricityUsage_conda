{
 "cells": [
  {
   "cell_type": "code",
   "execution_count": null,
   "metadata": {},
   "outputs": [],
   "source": []
  }
 ],
 "metadata": {
  "kernelspec": {
   "display_name": "Python 3.9.4 64-bit ('21dw_proj-H0tVSclG': pipenv)",
   "name": "python394jvsc74a57bd0c8e55fd909505cd42fb46e669dcd52b2ce8408c96c80587f14b087668e6facc4"
  },
  "language_info": {
   "name": "python",
   "version": ""
  },
  "metadata": {
   "interpreter": {
    "hash": "c8e55fd909505cd42fb46e669dcd52b2ce8408c96c80587f14b087668e6facc4"
   }
  },
  "orig_nbformat": 2
 },
 "nbformat": 4,
 "nbformat_minor": 2
}