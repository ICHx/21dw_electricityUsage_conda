{
 "cells": [
  {
   "cell_type": "code",
   "execution_count": 1,
   "metadata": {},
   "outputs": [
    {
     "data": {
      "text/plain": [
       "Index(['Start date/time', 'End date/time', 'Total Consumption (Unit)'], dtype='object')"
      ]
     },
     "metadata": {},
     "output_type": "display_data"
    },
    {
     "data": {
      "text/plain": [
       "Start date/time             datetime64[ns]\n",
       "End date/time               datetime64[ns]\n",
       "Total Consumption (Unit)           float64\n",
       "dtype: object"
      ]
     },
     "metadata": {},
     "output_type": "display_data"
    },
    {
     "data": {
      "text/plain": [
       "Start date/time             2021-04-10 09:00:00\n",
       "End date/time               2021-04-10 10:00:00\n",
       "Total Consumption (Unit)                    0.0\n",
       "Name: 417, dtype: object"
      ]
     },
     "metadata": {},
     "output_type": "display_data"
    }
   ],
   "source": [
    "import pandas as pd\n",
    "\n",
    "\n",
    "fname = \"consumption_history.csv\"\n",
    "df = pd\\\n",
    "    .read_csv(fname, parse_dates=[])\n",
    "\n",
    "# drop unneccessary column\n",
    "df.drop(columns=df.columns[0],inplace=True)\n",
    "\n",
    "# convert date string to datetime type\n",
    "df[df.columns[0]] = pd.to_datetime(df[df.columns[0]],format=\"%d/%m/%Y %H:%M\")\n",
    "df[df.columns[1]] = pd.to_datetime(df[df.columns[1]],format=\"%d/%m/%Y %H:%M\")\n",
    "\n",
    "#\n",
    "display(df.columns, df.dtypes, df.iloc[417])\n",
    "\n",
    "\n",
    "# extract a column\n",
    "# c1 = df[df.columns[2]]\n",
    "\n",
    "# extract a row\n",
    "# r1 = df.iloc[1484]\n",
    "# display(c1,r1)\n"
   ]
  },
  {
   "cell_type": "code",
   "execution_count": 2,
   "metadata": {},
   "outputs": [
    {
     "data": {
      "text/plain": [
       "{'mean': 0.3981558321807285, 'median': 0.3, 'std': 0.31927083620187097}"
      ]
     },
     "metadata": {},
     "output_type": "display_data"
    },
    {
     "data": {
      "text/plain": [
       "{'+2': 1.0366975045844704, '+1': 0.7174266683825994, '-1': 0.07888499597885751}"
      ]
     },
     "metadata": {},
     "output_type": "display_data"
    },
    {
     "data": {
      "text/html": [
       "<div>\n",
       "<style scoped>\n",
       "    .dataframe tbody tr th:only-of-type {\n",
       "        vertical-align: middle;\n",
       "    }\n",
       "\n",
       "    .dataframe tbody tr th {\n",
       "        vertical-align: top;\n",
       "    }\n",
       "\n",
       "    .dataframe thead th {\n",
       "        text-align: right;\n",
       "    }\n",
       "</style>\n",
       "<table border=\"1\" class=\"dataframe\">\n",
       "  <thead>\n",
       "    <tr style=\"text-align: right;\">\n",
       "      <th></th>\n",
       "      <th>Start date/time</th>\n",
       "      <th>End date/time</th>\n",
       "      <th>Total Consumption (Unit)</th>\n",
       "    </tr>\n",
       "  </thead>\n",
       "  <tbody>\n",
       "    <tr>\n",
       "      <th>1484</th>\n",
       "      <td>2021-05-24 20:00:00</td>\n",
       "      <td>2021-05-24 21:00:00</td>\n",
       "      <td>2.0</td>\n",
       "    </tr>\n",
       "    <tr>\n",
       "      <th>2152</th>\n",
       "      <td>2021-06-21 16:00:00</td>\n",
       "      <td>2021-06-21 17:00:00</td>\n",
       "      <td>1.9</td>\n",
       "    </tr>\n",
       "    <tr>\n",
       "      <th>2153</th>\n",
       "      <td>2021-06-21 17:00:00</td>\n",
       "      <td>2021-06-21 18:00:00</td>\n",
       "      <td>1.8</td>\n",
       "    </tr>\n",
       "    <tr>\n",
       "      <th>2155</th>\n",
       "      <td>2021-06-21 19:00:00</td>\n",
       "      <td>2021-06-21 20:00:00</td>\n",
       "      <td>1.8</td>\n",
       "    </tr>\n",
       "    <tr>\n",
       "      <th>1411</th>\n",
       "      <td>2021-05-21 19:00:00</td>\n",
       "      <td>2021-05-21 20:00:00</td>\n",
       "      <td>1.8</td>\n",
       "    </tr>\n",
       "    <tr>\n",
       "      <th>...</th>\n",
       "      <td>...</td>\n",
       "      <td>...</td>\n",
       "      <td>...</td>\n",
       "    </tr>\n",
       "    <tr>\n",
       "      <th>1585</th>\n",
       "      <td>2021-05-29 01:00:00</td>\n",
       "      <td>2021-05-29 02:00:00</td>\n",
       "      <td>1.1</td>\n",
       "    </tr>\n",
       "    <tr>\n",
       "      <th>1586</th>\n",
       "      <td>2021-05-29 02:00:00</td>\n",
       "      <td>2021-05-29 03:00:00</td>\n",
       "      <td>1.1</td>\n",
       "    </tr>\n",
       "    <tr>\n",
       "      <th>1609</th>\n",
       "      <td>2021-05-30 01:00:00</td>\n",
       "      <td>2021-05-30 02:00:00</td>\n",
       "      <td>1.1</td>\n",
       "    </tr>\n",
       "    <tr>\n",
       "      <th>1612</th>\n",
       "      <td>2021-05-30 04:00:00</td>\n",
       "      <td>2021-05-30 05:00:00</td>\n",
       "      <td>1.1</td>\n",
       "    </tr>\n",
       "    <tr>\n",
       "      <th>2161</th>\n",
       "      <td>2021-06-22 01:00:00</td>\n",
       "      <td>2021-06-22 02:00:00</td>\n",
       "      <td>1.1</td>\n",
       "    </tr>\n",
       "  </tbody>\n",
       "</table>\n",
       "<p>97 rows × 3 columns</p>\n",
       "</div>"
      ],
      "text/plain": [
       "         Start date/time       End date/time  Total Consumption (Unit)\n",
       "1484 2021-05-24 20:00:00 2021-05-24 21:00:00                       2.0\n",
       "2152 2021-06-21 16:00:00 2021-06-21 17:00:00                       1.9\n",
       "2153 2021-06-21 17:00:00 2021-06-21 18:00:00                       1.8\n",
       "2155 2021-06-21 19:00:00 2021-06-21 20:00:00                       1.8\n",
       "1411 2021-05-21 19:00:00 2021-05-21 20:00:00                       1.8\n",
       "...                  ...                 ...                       ...\n",
       "1585 2021-05-29 01:00:00 2021-05-29 02:00:00                       1.1\n",
       "1586 2021-05-29 02:00:00 2021-05-29 03:00:00                       1.1\n",
       "1609 2021-05-30 01:00:00 2021-05-30 02:00:00                       1.1\n",
       "1612 2021-05-30 04:00:00 2021-05-30 05:00:00                       1.1\n",
       "2161 2021-06-22 01:00:00 2021-06-22 02:00:00                       1.1\n",
       "\n",
       "[97 rows x 3 columns]"
      ]
     },
     "metadata": {},
     "output_type": "display_data"
    }
   ],
   "source": [
    "stats = {}\n",
    "sigma = {}\n",
    "\n",
    "stats['mean'] = df[df.columns[2]].mean()\n",
    "stats['median'] = df[df.columns[2]].median()\n",
    "stats['std'] = df[df.columns[2]].std()\n",
    "\n",
    "sigma[\"+2\"] = stats['mean']+2*stats['std']\n",
    "sigma[\"+1\"] = stats['mean']+stats['std']\n",
    "sigma[\"-1\"] = stats['mean']-stats['std']\n",
    "\n",
    "display(stats, sigma)\n",
    "\n",
    "df_1sigma = df[df[df.columns[2]] > sigma['+1']]\n",
    "df_1sigma = df_1sigma.sort_values(df.columns[2], ascending=False)\n",
    "\n",
    "df_2sigma = df[df[df.columns[2]] > sigma['+2']]\n",
    "df_2sigma = df_2sigma.sort_values(df.columns[2], ascending=False)\n",
    "display(df_2sigma)\n",
    "\n",
    "\n",
    "\n"
   ]
  },
  {
   "cell_type": "code",
   "execution_count": 3,
   "metadata": {},
   "outputs": [
    {
     "data": {
      "text/html": [
       "<div>\n",
       "<style scoped>\n",
       "    .dataframe tbody tr th:only-of-type {\n",
       "        vertical-align: middle;\n",
       "    }\n",
       "\n",
       "    .dataframe tbody tr th {\n",
       "        vertical-align: top;\n",
       "    }\n",
       "\n",
       "    .dataframe thead th {\n",
       "        text-align: right;\n",
       "    }\n",
       "</style>\n",
       "<table border=\"1\" class=\"dataframe\">\n",
       "  <thead>\n",
       "    <tr style=\"text-align: right;\">\n",
       "      <th></th>\n",
       "      <th>Start date/time</th>\n",
       "      <th>End date/time</th>\n",
       "      <th>Total Consumption (Unit)</th>\n",
       "      <th>zscore</th>\n",
       "    </tr>\n",
       "  </thead>\n",
       "  <tbody>\n",
       "    <tr>\n",
       "      <th>445</th>\n",
       "      <td>2021-04-11 13:00:00</td>\n",
       "      <td>2021-04-11 14:00:00</td>\n",
       "      <td>0.0</td>\n",
       "      <td>-1.247079</td>\n",
       "    </tr>\n",
       "    <tr>\n",
       "      <th>82</th>\n",
       "      <td>2021-03-27 10:00:00</td>\n",
       "      <td>2021-03-27 11:00:00</td>\n",
       "      <td>0.0</td>\n",
       "      <td>-1.247079</td>\n",
       "    </tr>\n",
       "    <tr>\n",
       "      <th>2098</th>\n",
       "      <td>2021-06-19 10:00:00</td>\n",
       "      <td>2021-06-19 11:00:00</td>\n",
       "      <td>0.0</td>\n",
       "      <td>-1.247079</td>\n",
       "    </tr>\n",
       "    <tr>\n",
       "      <th>417</th>\n",
       "      <td>2021-04-10 09:00:00</td>\n",
       "      <td>2021-04-10 10:00:00</td>\n",
       "      <td>0.0</td>\n",
       "      <td>-1.247079</td>\n",
       "    </tr>\n",
       "    <tr>\n",
       "      <th>4</th>\n",
       "      <td>2021-03-24 04:00:00</td>\n",
       "      <td>2021-03-24 05:00:00</td>\n",
       "      <td>0.0</td>\n",
       "      <td>-1.247079</td>\n",
       "    </tr>\n",
       "    <tr>\n",
       "      <th>...</th>\n",
       "      <td>...</td>\n",
       "      <td>...</td>\n",
       "      <td>...</td>\n",
       "      <td>...</td>\n",
       "    </tr>\n",
       "    <tr>\n",
       "      <th>2155</th>\n",
       "      <td>2021-06-21 19:00:00</td>\n",
       "      <td>2021-06-21 20:00:00</td>\n",
       "      <td>1.8</td>\n",
       "      <td>4.390768</td>\n",
       "    </tr>\n",
       "    <tr>\n",
       "      <th>2153</th>\n",
       "      <td>2021-06-21 17:00:00</td>\n",
       "      <td>2021-06-21 18:00:00</td>\n",
       "      <td>1.8</td>\n",
       "      <td>4.390768</td>\n",
       "    </tr>\n",
       "    <tr>\n",
       "      <th>1411</th>\n",
       "      <td>2021-05-21 19:00:00</td>\n",
       "      <td>2021-05-21 20:00:00</td>\n",
       "      <td>1.8</td>\n",
       "      <td>4.390768</td>\n",
       "    </tr>\n",
       "    <tr>\n",
       "      <th>2152</th>\n",
       "      <td>2021-06-21 16:00:00</td>\n",
       "      <td>2021-06-21 17:00:00</td>\n",
       "      <td>1.9</td>\n",
       "      <td>4.703982</td>\n",
       "    </tr>\n",
       "    <tr>\n",
       "      <th>1484</th>\n",
       "      <td>2021-05-24 20:00:00</td>\n",
       "      <td>2021-05-24 21:00:00</td>\n",
       "      <td>2.0</td>\n",
       "      <td>5.017195</td>\n",
       "    </tr>\n",
       "  </tbody>\n",
       "</table>\n",
       "<p>2169 rows × 4 columns</p>\n",
       "</div>"
      ],
      "text/plain": [
       "         Start date/time       End date/time  Total Consumption (Unit)  \\\n",
       "445  2021-04-11 13:00:00 2021-04-11 14:00:00                       0.0   \n",
       "82   2021-03-27 10:00:00 2021-03-27 11:00:00                       0.0   \n",
       "2098 2021-06-19 10:00:00 2021-06-19 11:00:00                       0.0   \n",
       "417  2021-04-10 09:00:00 2021-04-10 10:00:00                       0.0   \n",
       "4    2021-03-24 04:00:00 2021-03-24 05:00:00                       0.0   \n",
       "...                  ...                 ...                       ...   \n",
       "2155 2021-06-21 19:00:00 2021-06-21 20:00:00                       1.8   \n",
       "2153 2021-06-21 17:00:00 2021-06-21 18:00:00                       1.8   \n",
       "1411 2021-05-21 19:00:00 2021-05-21 20:00:00                       1.8   \n",
       "2152 2021-06-21 16:00:00 2021-06-21 17:00:00                       1.9   \n",
       "1484 2021-05-24 20:00:00 2021-05-24 21:00:00                       2.0   \n",
       "\n",
       "        zscore  \n",
       "445  -1.247079  \n",
       "82   -1.247079  \n",
       "2098 -1.247079  \n",
       "417  -1.247079  \n",
       "4    -1.247079  \n",
       "...        ...  \n",
       "2155  4.390768  \n",
       "2153  4.390768  \n",
       "1411  4.390768  \n",
       "2152  4.703982  \n",
       "1484  5.017195  \n",
       "\n",
       "[2169 rows x 4 columns]"
      ]
     },
     "metadata": {},
     "output_type": "display_data"
    },
    {
     "data": {
      "text/plain": [
       "<AxesSubplot:title={'center':'Hourly Energy Usage distribution'}, xlabel='Start date/time'>"
      ]
     },
     "execution_count": 3,
     "metadata": {},
     "output_type": "execute_result"
    },
    {
     "data": {
      "image/png": "[encoded data removed]",
      "text/plain": [
       "<Figure size 432x288 with 1 Axes>"
      ]
     },
     "metadata": {
      "needs_background": "light"
     },
     "output_type": "display_data"
    },
    {
     "data": {
      "image/png": "[encoded data removed]",
      "text/plain": [
       "<Figure size 432x288 with 1 Axes>"
      ]
     },
     "metadata": {
      "needs_background": "light"
     },
     "output_type": "display_data"
    }
   ],
   "source": [
    "import matplotlib.pyplot as plt\n",
    "\n",
    "col = df[df.columns[2]]\n",
    "df_zscore = (col - col.mean())/col.std()\n",
    "\n",
    "df1=df\n",
    "df1['zscore']=df_zscore\n",
    "\n",
    "df1=df.sort_values(\"zscore\")\n",
    "\n",
    "display(df1)\n",
    "\n",
    "df1.plot(x=df.columns[0], y=df.columns[2], title=\"Hourly Energy Usage over Time\")\n",
    "df1.plot(x=df.columns[0], y=\"zscore\", title=\"Hourly Energy Usage distribution\")"
   ]
  },
  {
   "cell_type": "code",
   "execution_count": 4,
   "metadata": {
    "scrolled": true
   },
   "outputs": [
    {
     "data": {
      "text/plain": [
       "Index(['Total Consumption (Unit)'], dtype='object')"
      ]
     },
     "metadata": {},
     "output_type": "display_data"
    },
    {
     "data": {
      "text/html": [
       "<div>\n",
       "<style scoped>\n",
       "    .dataframe tbody tr th:only-of-type {\n",
       "        vertical-align: middle;\n",
       "    }\n",
       "\n",
       "    .dataframe tbody tr th {\n",
       "        vertical-align: top;\n",
       "    }\n",
       "\n",
       "    .dataframe thead th {\n",
       "        text-align: right;\n",
       "    }\n",
       "</style>\n",
       "<table border=\"1\" class=\"dataframe\">\n",
       "  <thead>\n",
       "    <tr style=\"text-align: right;\">\n",
       "      <th></th>\n",
       "      <th>Total Consumption (Unit)</th>\n",
       "    </tr>\n",
       "    <tr>\n",
       "      <th>Start date/time</th>\n",
       "      <th></th>\n",
       "    </tr>\n",
       "  </thead>\n",
       "  <tbody>\n",
       "    <tr>\n",
       "      <th>2021-03-24</th>\n",
       "      <td>4.3</td>\n",
       "    </tr>\n",
       "    <tr>\n",
       "      <th>2021-03-25</th>\n",
       "      <td>5.3</td>\n",
       "    </tr>\n",
       "    <tr>\n",
       "      <th>2021-03-26</th>\n",
       "      <td>5.3</td>\n",
       "    </tr>\n",
       "    <tr>\n",
       "      <th>2021-03-27</th>\n",
       "      <td>4.5</td>\n",
       "    </tr>\n",
       "    <tr>\n",
       "      <th>2021-03-28</th>\n",
       "      <td>4.7</td>\n",
       "    </tr>\n",
       "    <tr>\n",
       "      <th>...</th>\n",
       "      <td>...</td>\n",
       "    </tr>\n",
       "    <tr>\n",
       "      <th>2021-06-18</th>\n",
       "      <td>14.1</td>\n",
       "    </tr>\n",
       "    <tr>\n",
       "      <th>2021-06-19</th>\n",
       "      <td>14.0</td>\n",
       "    </tr>\n",
       "    <tr>\n",
       "      <th>2021-06-20</th>\n",
       "      <td>14.1</td>\n",
       "    </tr>\n",
       "    <tr>\n",
       "      <th>2021-06-21</th>\n",
       "      <td>22.3</td>\n",
       "    </tr>\n",
       "    <tr>\n",
       "      <th>2021-06-22</th>\n",
       "      <td>6.6</td>\n",
       "    </tr>\n",
       "  </tbody>\n",
       "</table>\n",
       "<p>91 rows × 1 columns</p>\n",
       "</div>"
      ],
      "text/plain": [
       "                 Total Consumption (Unit)\n",
       "Start date/time                          \n",
       "2021-03-24                            4.3\n",
       "2021-03-25                            5.3\n",
       "2021-03-26                            5.3\n",
       "2021-03-27                            4.5\n",
       "2021-03-28                            4.7\n",
       "...                                   ...\n",
       "2021-06-18                           14.1\n",
       "2021-06-19                           14.0\n",
       "2021-06-20                           14.1\n",
       "2021-06-21                           22.3\n",
       "2021-06-22                            6.6\n",
       "\n",
       "[91 rows x 1 columns]"
      ]
     },
     "metadata": {},
     "output_type": "display_data"
    },
    {
     "data": {
      "image/png": "[encoded data removed]",
      "text/plain": [
       "<Figure size 432x288 with 1 Axes>"
      ]
     },
     "metadata": {
      "needs_background": "light"
     },
     "output_type": "display_data"
    }
   ],
   "source": [
    "# group by day\n",
    "dateCol = df.columns[0]\n",
    "valueCol = df.columns[2]\n",
    "\n",
    "df_day = df.groupby(pd.Grouper(key=dateCol, freq='D')).sum()\n",
    "\n",
    "try:\n",
    "    df_day.drop(columns=\"zscore\",inplace=True)\n",
    "except:\n",
    "    pass\n",
    "\n",
    "display(df_day.columns, df_day, )\n",
    "\n",
    "\n",
    "\n",
    "df_day.plot( y=df_day.columns[0], title=\"Daily Energy Usage over Time\")\n",
    "\n",
    "df_day.to_csv(\"day_history.csv\")"
   ]
  },
  {
   "cell_type": "code",
   "execution_count": 5,
   "metadata": {},
   "outputs": [
    {
     "data": {
      "text/html": [
       "<div>\n",
       "<style scoped>\n",
       "    .dataframe tbody tr th:only-of-type {\n",
       "        vertical-align: middle;\n",
       "    }\n",
       "\n",
       "    .dataframe tbody tr th {\n",
       "        vertical-align: top;\n",
       "    }\n",
       "\n",
       "    .dataframe thead th {\n",
       "        text-align: right;\n",
       "    }\n",
       "</style>\n",
       "<table border=\"1\" class=\"dataframe\">\n",
       "  <thead>\n",
       "    <tr style=\"text-align: right;\">\n",
       "      <th></th>\n",
       "      <th>Total Consumption (Unit)</th>\n",
       "    </tr>\n",
       "    <tr>\n",
       "      <th>Start date/time</th>\n",
       "      <th></th>\n",
       "    </tr>\n",
       "  </thead>\n",
       "  <tbody>\n",
       "    <tr>\n",
       "      <th>2021-03-24</th>\n",
       "      <td>4.3</td>\n",
       "    </tr>\n",
       "    <tr>\n",
       "      <th>2021-03-25</th>\n",
       "      <td>5.3</td>\n",
       "    </tr>\n",
       "    <tr>\n",
       "      <th>2021-03-26</th>\n",
       "      <td>5.3</td>\n",
       "    </tr>\n",
       "    <tr>\n",
       "      <th>2021-03-27</th>\n",
       "      <td>4.5</td>\n",
       "    </tr>\n",
       "    <tr>\n",
       "      <th>2021-03-28</th>\n",
       "      <td>4.7</td>\n",
       "    </tr>\n",
       "    <tr>\n",
       "      <th>...</th>\n",
       "      <td>...</td>\n",
       "    </tr>\n",
       "    <tr>\n",
       "      <th>2021-06-18</th>\n",
       "      <td>14.1</td>\n",
       "    </tr>\n",
       "    <tr>\n",
       "      <th>2021-06-19</th>\n",
       "      <td>14.0</td>\n",
       "    </tr>\n",
       "    <tr>\n",
       "      <th>2021-06-20</th>\n",
       "      <td>14.1</td>\n",
       "    </tr>\n",
       "    <tr>\n",
       "      <th>2021-06-21</th>\n",
       "      <td>22.3</td>\n",
       "    </tr>\n",
       "    <tr>\n",
       "      <th>2021-06-22</th>\n",
       "      <td>6.6</td>\n",
       "    </tr>\n",
       "  </tbody>\n",
       "</table>\n",
       "<p>91 rows × 1 columns</p>\n",
       "</div>"
      ],
      "text/plain": [
       "                 Total Consumption (Unit)\n",
       "Start date/time                          \n",
       "2021-03-24                            4.3\n",
       "2021-03-25                            5.3\n",
       "2021-03-26                            5.3\n",
       "2021-03-27                            4.5\n",
       "2021-03-28                            4.7\n",
       "...                                   ...\n",
       "2021-06-18                           14.1\n",
       "2021-06-19                           14.0\n",
       "2021-06-20                           14.1\n",
       "2021-06-21                           22.3\n",
       "2021-06-22                            6.6\n",
       "\n",
       "[91 rows x 1 columns]"
      ]
     },
     "metadata": {},
     "output_type": "display_data"
    },
    {
     "data": {
      "text/html": [
       "<div>\n",
       "<style scoped>\n",
       "    .dataframe tbody tr th:only-of-type {\n",
       "        vertical-align: middle;\n",
       "    }\n",
       "\n",
       "    .dataframe tbody tr th {\n",
       "        vertical-align: top;\n",
       "    }\n",
       "\n",
       "    .dataframe thead th {\n",
       "        text-align: right;\n",
       "    }\n",
       "</style>\n",
       "<table border=\"1\" class=\"dataframe\">\n",
       "  <thead>\n",
       "    <tr style=\"text-align: right;\">\n",
       "      <th></th>\n",
       "      <th>Year</th>\n",
       "      <th>Month</th>\n",
       "      <th>Day</th>\n",
       "      <th>Value</th>\n",
       "      <th>Date</th>\n",
       "    </tr>\n",
       "  </thead>\n",
       "  <tbody>\n",
       "    <tr>\n",
       "      <th>0</th>\n",
       "      <td>2021.0</td>\n",
       "      <td>1.0</td>\n",
       "      <td>1.0</td>\n",
       "      <td>16.1</td>\n",
       "      <td>2021-01-01</td>\n",
       "    </tr>\n",
       "    <tr>\n",
       "      <th>1</th>\n",
       "      <td>2021.0</td>\n",
       "      <td>1.0</td>\n",
       "      <td>2.0</td>\n",
       "      <td>19.5</td>\n",
       "      <td>2021-01-02</td>\n",
       "    </tr>\n",
       "    <tr>\n",
       "      <th>2</th>\n",
       "      <td>2021.0</td>\n",
       "      <td>1.0</td>\n",
       "      <td>3.0</td>\n",
       "      <td>22.3</td>\n",
       "      <td>2021-01-03</td>\n",
       "    </tr>\n",
       "    <tr>\n",
       "      <th>3</th>\n",
       "      <td>2021.0</td>\n",
       "      <td>1.0</td>\n",
       "      <td>4.0</td>\n",
       "      <td>22.0</td>\n",
       "      <td>2021-01-04</td>\n",
       "    </tr>\n",
       "    <tr>\n",
       "      <th>4</th>\n",
       "      <td>2021.0</td>\n",
       "      <td>1.0</td>\n",
       "      <td>5.0</td>\n",
       "      <td>23.0</td>\n",
       "      <td>2021-01-05</td>\n",
       "    </tr>\n",
       "    <tr>\n",
       "      <th>...</th>\n",
       "      <td>...</td>\n",
       "      <td>...</td>\n",
       "      <td>...</td>\n",
       "      <td>...</td>\n",
       "      <td>...</td>\n",
       "    </tr>\n",
       "    <tr>\n",
       "      <th>18</th>\n",
       "      <td>NaN</td>\n",
       "      <td>NaN</td>\n",
       "      <td>NaN</td>\n",
       "      <td>32.4</td>\n",
       "      <td>2021-06-19</td>\n",
       "    </tr>\n",
       "    <tr>\n",
       "      <th>19</th>\n",
       "      <td>NaN</td>\n",
       "      <td>NaN</td>\n",
       "      <td>NaN</td>\n",
       "      <td>32.6</td>\n",
       "      <td>2021-06-20</td>\n",
       "    </tr>\n",
       "    <tr>\n",
       "      <th>20</th>\n",
       "      <td>NaN</td>\n",
       "      <td>NaN</td>\n",
       "      <td>NaN</td>\n",
       "      <td>32.1</td>\n",
       "      <td>2021-06-21</td>\n",
       "    </tr>\n",
       "    <tr>\n",
       "      <th>21</th>\n",
       "      <td>NaN</td>\n",
       "      <td>NaN</td>\n",
       "      <td>NaN</td>\n",
       "      <td>29.6</td>\n",
       "      <td>2021-06-22</td>\n",
       "    </tr>\n",
       "    <tr>\n",
       "      <th>22</th>\n",
       "      <td>NaN</td>\n",
       "      <td>NaN</td>\n",
       "      <td>NaN</td>\n",
       "      <td>30.0</td>\n",
       "      <td>2021-06-23</td>\n",
       "    </tr>\n",
       "  </tbody>\n",
       "</table>\n",
       "<p>174 rows × 5 columns</p>\n",
       "</div>"
      ],
      "text/plain": [
       "      Year  Month  Day  Value       Date\n",
       "0   2021.0    1.0  1.0   16.1 2021-01-01\n",
       "1   2021.0    1.0  2.0   19.5 2021-01-02\n",
       "2   2021.0    1.0  3.0   22.3 2021-01-03\n",
       "3   2021.0    1.0  4.0   22.0 2021-01-04\n",
       "4   2021.0    1.0  5.0   23.0 2021-01-05\n",
       "..     ...    ...  ...    ...        ...\n",
       "18     NaN    NaN  NaN   32.4 2021-06-19\n",
       "19     NaN    NaN  NaN   32.6 2021-06-20\n",
       "20     NaN    NaN  NaN   32.1 2021-06-21\n",
       "21     NaN    NaN  NaN   29.6 2021-06-22\n",
       "22     NaN    NaN  NaN   30.0 2021-06-23\n",
       "\n",
       "[174 rows x 5 columns]"
      ]
     },
     "metadata": {},
     "output_type": "display_data"
    },
    {
     "data": {
      "image/png": "[encoded data removed]",
      "text/plain": [
       "<Figure size 432x288 with 1 Axes>"
      ]
     },
     "metadata": {
      "needs_background": "light"
     },
     "output_type": "display_data"
    }
   ],
   "source": [
    "# weather\n",
    "df_weather = pd.read_csv(\"weather_ty_max.csv\", engine='python',skiprows=2, skipfooter=3)\n",
    "\n",
    "df_weather.drop(columns=df_weather.columns[-1], inplace=True)\n",
    "\n",
    "date= pd.to_datetime(df_weather[['Day','Month','Year']])\n",
    "\n",
    "df_weather['Date']=date;\n",
    "display(df_day)\n",
    "df_day.info\n",
    "\n",
    "\n",
    "\n",
    "# combined weather\n",
    "df_weather6 = pd.read_csv('./june_max_weather.csv', parse_dates=[\"Date\"])\n",
    "df_weather6 = df_weather6.rename(columns={\"Temp\":\"Value\"})\n",
    "df_weather6.dtypes\n",
    "\n",
    "df_weather = df_weather.append(df_weather6)\n",
    "display(df_weather)\n",
    "\n",
    "plt1=df_weather.plot(x=\"Date\", y=\"Value\", title=\"Max Temperature of Day\")\n",
    "\n"
   ]
  },
  {
   "cell_type": "code",
   "execution_count": 12,
   "metadata": {},
   "outputs": [
    {
     "data": {
      "text/plain": [
       "Start date/time             datetime64[ns]\n",
       "Total Consumption (Unit)           float64\n",
       "dtype: object"
      ]
     },
     "metadata": {},
     "output_type": "display_data"
    },
    {
     "data": {
      "text/plain": [
       "'Start date/time'"
      ]
     },
     "metadata": {},
     "output_type": "display_data"
    },
    {
     "data": {
      "text/plain": [
       "Year            float64\n",
       "Month           float64\n",
       "Day             float64\n",
       "Value           float64\n",
       "Date     datetime64[ns]\n",
       "dtype: object"
      ]
     },
     "metadata": {},
     "output_type": "display_data"
    },
    {
     "data": {
      "text/plain": [
       "'Date'"
      ]
     },
     "metadata": {},
     "output_type": "display_data"
    },
    {
     "data": {
      "text/html": [
       "<div>\n",
       "<style scoped>\n",
       "    .dataframe tbody tr th:only-of-type {\n",
       "        vertical-align: middle;\n",
       "    }\n",
       "\n",
       "    .dataframe tbody tr th {\n",
       "        vertical-align: top;\n",
       "    }\n",
       "\n",
       "    .dataframe thead th {\n",
       "        text-align: right;\n",
       "    }\n",
       "</style>\n",
       "<table border=\"1\" class=\"dataframe\">\n",
       "  <thead>\n",
       "    <tr style=\"text-align: right;\">\n",
       "      <th></th>\n",
       "      <th>Total Consumption (Unit)</th>\n",
       "      <th>Date</th>\n",
       "      <th>Value</th>\n",
       "    </tr>\n",
       "  </thead>\n",
       "  <tbody>\n",
       "    <tr>\n",
       "      <th>0</th>\n",
       "      <td>4.3</td>\n",
       "      <td>2021-03-24</td>\n",
       "      <td>24.2</td>\n",
       "    </tr>\n",
       "    <tr>\n",
       "      <th>1</th>\n",
       "      <td>5.3</td>\n",
       "      <td>2021-03-25</td>\n",
       "      <td>26.4</td>\n",
       "    </tr>\n",
       "    <tr>\n",
       "      <th>2</th>\n",
       "      <td>5.3</td>\n",
       "      <td>2021-03-26</td>\n",
       "      <td>26.9</td>\n",
       "    </tr>\n",
       "    <tr>\n",
       "      <th>3</th>\n",
       "      <td>4.5</td>\n",
       "      <td>2021-03-27</td>\n",
       "      <td>27.6</td>\n",
       "    </tr>\n",
       "    <tr>\n",
       "      <th>4</th>\n",
       "      <td>4.7</td>\n",
       "      <td>2021-03-28</td>\n",
       "      <td>27.8</td>\n",
       "    </tr>\n",
       "    <tr>\n",
       "      <th>...</th>\n",
       "      <td>...</td>\n",
       "      <td>...</td>\n",
       "      <td>...</td>\n",
       "    </tr>\n",
       "    <tr>\n",
       "      <th>86</th>\n",
       "      <td>14.1</td>\n",
       "      <td>2021-06-18</td>\n",
       "      <td>32.6</td>\n",
       "    </tr>\n",
       "    <tr>\n",
       "      <th>87</th>\n",
       "      <td>14.0</td>\n",
       "      <td>2021-06-19</td>\n",
       "      <td>32.4</td>\n",
       "    </tr>\n",
       "    <tr>\n",
       "      <th>88</th>\n",
       "      <td>14.1</td>\n",
       "      <td>2021-06-20</td>\n",
       "      <td>32.6</td>\n",
       "    </tr>\n",
       "    <tr>\n",
       "      <th>89</th>\n",
       "      <td>22.3</td>\n",
       "      <td>2021-06-21</td>\n",
       "      <td>32.1</td>\n",
       "    </tr>\n",
       "    <tr>\n",
       "      <th>90</th>\n",
       "      <td>6.6</td>\n",
       "      <td>2021-06-22</td>\n",
       "      <td>29.6</td>\n",
       "    </tr>\n",
       "  </tbody>\n",
       "</table>\n",
       "<p>91 rows × 3 columns</p>\n",
       "</div>"
      ],
      "text/plain": [
       "    Total Consumption (Unit)       Date  Value\n",
       "0                        4.3 2021-03-24   24.2\n",
       "1                        5.3 2021-03-25   26.4\n",
       "2                        5.3 2021-03-26   26.9\n",
       "3                        4.5 2021-03-27   27.6\n",
       "4                        4.7 2021-03-28   27.8\n",
       "..                       ...        ...    ...\n",
       "86                      14.1 2021-06-18   32.6\n",
       "87                      14.0 2021-06-19   32.4\n",
       "88                      14.1 2021-06-20   32.6\n",
       "89                      22.3 2021-06-21   32.1\n",
       "90                       6.6 2021-06-22   29.6\n",
       "\n",
       "[91 rows x 3 columns]"
      ]
     },
     "metadata": {},
     "output_type": "display_data"
    },
    {
     "data": {
      "text/plain": [
       "Text(0.5, 0, 'Temperature (Celsius)')"
      ]
     },
     "execution_count": 12,
     "metadata": {},
     "output_type": "execute_result"
    },
    {
     "data": {
      "image/png": "[encoded data removed]",
      "text/plain": [
       "<Figure size 432x288 with 1 Axes>"
      ]
     },
     "metadata": {
      "needs_background": "light"
     },
     "output_type": "display_data"
    }
   ],
   "source": [
    "# compare df_day with df_weather\n",
    "df_unstack = df_day.reset_index()\n",
    "\n",
    "display(\n",
    "    df_unstack.dtypes,\n",
    "    df_unstack.columns[0],\n",
    "    df_weather.dtypes,\n",
    "    df_weather.columns[-1]\n",
    ")\n",
    "\n",
    "df_merge = df_day.merge(df_weather[['Date', 'Value']], how='inner',\n",
    "                        left_on=df_unstack.columns[0], right_on=df_weather.columns[-1])\n",
    "\n",
    "display(df_merge)\n",
    "\n",
    "ax=df_merge.plot.scatter(y=df_merge.columns[0], x=\"Value\", title=\"Daily Energy Comsump. vs Max Daily Temperature\")\n",
    "ax.set_xlabel(\"Temperature (Celsius)\")\n"
   ]
  },
  {
   "cell_type": "code",
   "execution_count": 42,
   "metadata": {},
   "outputs": [
    {
     "data": {
      "text/html": [
       "<div>\n",
       "<style scoped>\n",
       "    .dataframe tbody tr th:only-of-type {\n",
       "        vertical-align: middle;\n",
       "    }\n",
       "\n",
       "    .dataframe tbody tr th {\n",
       "        vertical-align: top;\n",
       "    }\n",
       "\n",
       "    .dataframe thead th {\n",
       "        text-align: right;\n",
       "    }\n",
       "</style>\n",
       "<table border=\"1\" class=\"dataframe\">\n",
       "  <thead>\n",
       "    <tr style=\"text-align: right;\">\n",
       "      <th></th>\n",
       "      <th>Total Consumption (Unit)</th>\n",
       "      <th>Value</th>\n",
       "    </tr>\n",
       "  </thead>\n",
       "  <tbody>\n",
       "    <tr>\n",
       "      <th>0</th>\n",
       "      <td>4.3</td>\n",
       "      <td>24.2</td>\n",
       "    </tr>\n",
       "    <tr>\n",
       "      <th>1</th>\n",
       "      <td>5.3</td>\n",
       "      <td>26.4</td>\n",
       "    </tr>\n",
       "    <tr>\n",
       "      <th>2</th>\n",
       "      <td>5.3</td>\n",
       "      <td>26.9</td>\n",
       "    </tr>\n",
       "    <tr>\n",
       "      <th>3</th>\n",
       "      <td>4.5</td>\n",
       "      <td>27.6</td>\n",
       "    </tr>\n",
       "    <tr>\n",
       "      <th>4</th>\n",
       "      <td>4.7</td>\n",
       "      <td>27.8</td>\n",
       "    </tr>\n",
       "    <tr>\n",
       "      <th>...</th>\n",
       "      <td>...</td>\n",
       "      <td>...</td>\n",
       "    </tr>\n",
       "    <tr>\n",
       "      <th>86</th>\n",
       "      <td>14.1</td>\n",
       "      <td>32.6</td>\n",
       "    </tr>\n",
       "    <tr>\n",
       "      <th>87</th>\n",
       "      <td>14.0</td>\n",
       "      <td>32.4</td>\n",
       "    </tr>\n",
       "    <tr>\n",
       "      <th>88</th>\n",
       "      <td>14.1</td>\n",
       "      <td>32.6</td>\n",
       "    </tr>\n",
       "    <tr>\n",
       "      <th>89</th>\n",
       "      <td>22.3</td>\n",
       "      <td>32.1</td>\n",
       "    </tr>\n",
       "    <tr>\n",
       "      <th>90</th>\n",
       "      <td>6.6</td>\n",
       "      <td>29.6</td>\n",
       "    </tr>\n",
       "  </tbody>\n",
       "</table>\n",
       "<p>91 rows × 2 columns</p>\n",
       "</div>"
      ],
      "text/plain": [
       "    Total Consumption (Unit)  Value\n",
       "0                        4.3   24.2\n",
       "1                        5.3   26.4\n",
       "2                        5.3   26.9\n",
       "3                        4.5   27.6\n",
       "4                        4.7   27.8\n",
       "..                       ...    ...\n",
       "86                      14.1   32.6\n",
       "87                      14.0   32.4\n",
       "88                      14.1   32.6\n",
       "89                      22.3   32.1\n",
       "90                       6.6   29.6\n",
       "\n",
       "[91 rows x 2 columns]"
      ]
     },
     "metadata": {},
     "output_type": "display_data"
    },
    {
     "data": {
      "text/plain": [
       "array([[10.95185185, 31.8       ],\n",
       "       [ 5.9       , 27.82888889],\n",
       "       [15.91578947, 32.72105263]])"
      ]
     },
     "execution_count": 42,
     "metadata": {},
     "output_type": "execute_result"
    },
    {
     "data": {
      "image/png": "[encoded data removed]",
      "text/plain": [
       "<Figure size 432x288 with 1 Axes>"
      ]
     },
     "metadata": {
      "needs_background": "light"
     },
     "output_type": "display_data"
    }
   ],
   "source": [
    "# Kmean\n",
    "# cluster df_merge [0]=comsump, [1]=date, [2]=temp\n",
    "from sklearn.cluster import KMeans\n",
    "import matplotlib.pyplot as plt\n",
    "\n",
    "X = df_merge[[df_merge.columns[0], df_merge.columns[-1]]]\n",
    "display(X)\n",
    "kmeans = KMeans(n_clusters=3).fit(X)\n",
    "\n",
    "centroids = kmeans.cluster_centers_\n",
    "plt.scatter(centroids[:,1], centroids[:,0], c='red',s=50)\n",
    "\n",
    "powCol,tempCol = X.columns\n",
    "plt.scatter(x=X[tempCol], y=X[powCol],c=kmeans.labels_.astype(int), s=50, alpha=0.5)\n",
    "plt.ylabel(\"Daily Total Consumption(Unit)\") \n",
    "plt.xlabel(\"Daily Max Temperature(Celsius)\")\n",
    "\n",
    "centroids\n",
    "\n"
   ]
  },
  {
   "cell_type": "code",
   "execution_count": 100,
   "metadata": {},
   "outputs": [
    {
     "data": {
      "image/png": "[encoded data removed]",
      "text/plain": [
       "<Figure size 432x288 with 1 Axes>"
      ]
     },
     "metadata": {
      "needs_background": "light"
     },
     "output_type": "display_data"
    }
   ],
   "source": [
    "import numpy as np\n",
    "import scipy.stats as stats\n",
    "\n",
    "#add legend\n",
    "X1 = df_merge[tempCol].values\n",
    "Y1 = df_merge[powCol].values\n",
    "\n",
    "import matplotlib.pyplot as plt\n",
    "\n",
    "#create scatterplot\n",
    "plt.scatter(X1, Y1)\n",
    "\n",
    "#polynomial fit with degree\n",
    "degree=3\n",
    "model = np.poly1d(np.polyfit(X1, Y1, degree))\n",
    "\n",
    "#add fitted polynomial line to scatterplot\n",
    "polyline = np.linspace(20, 40, 50)\n",
    "plt.plot(polyline, model(polyline))\n",
    "plt.title(\"Polynormial fit\")\n",
    "plt.ylabel(\"Daily Total Consumption(Unit)\") \n",
    "plt.xlabel(\"Daily Max Temperature(Celsius)\")\n",
    "plt.show()"
   ]
  },
  {
   "cell_type": "code",
   "execution_count": 103,
   "metadata": {},
   "outputs": [
    {
     "data": {
      "text/plain": [
       "poly1d([ 1.95260788e-03,  2.07312588e-02, -5.00330966e+00,  8.67232288e+01])"
      ]
     },
     "execution_count": 103,
     "metadata": {},
     "output_type": "execute_result"
    }
   ],
   "source": [
    "model"
   ]
  },
  {
   "cell_type": "markdown",
   "metadata": {},
   "source": []
  }
 ],
 "metadata": {
  "kernelspec": {
   "display_name": "Python 3.9.5 64-bit ('base': conda)",
   "language": "python",
   "name": "python395jvsc74a57bd095ec9ec1504d83f612128e0fb229072f90bbb4cb09d9d5d93b5dd26e0ca2cfd1"
  },
  "language_info": {
   "codemirror_mode": {
    "name": "ipython",
    "version": 3
   },
   "file_extension": ".py",
   "mimetype": "text/x-python",
   "name": "python",
   "nbconvert_exporter": "python",
   "pygments_lexer": "ipython3",
   "version": "3.9.5"
  },
  "metadata": {
   "interpreter": {
    "hash": "95ec9ec1504d83f612128e0fb229072f90bbb4cb09d9d5d93b5dd26e0ca2cfd1"
   }
  }
 },
 "nbformat": 4,
 "nbformat_minor": 2
}
